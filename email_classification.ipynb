{
  "nbformat": 4,
  "nbformat_minor": 0,
  "metadata": {
    "colab": {
      "provenance": [],
      "authorship_tag": "ABX9TyM5zBkOuj7fx1iYWxgu4Wmg",
      "include_colab_link": true
    },
    "kernelspec": {
      "name": "python3",
      "display_name": "Python 3"
    },
    "language_info": {
      "name": "python"
    }
  },
  "cells": [
    {
      "cell_type": "markdown",
      "metadata": {
        "id": "view-in-github",
        "colab_type": "text"
      },
      "source": [
        "<a href=\"https://colab.research.google.com/github/rajiul123/Email_classification/blob/main/email_classification.ipynb\" target=\"_parent\"><img src=\"https://colab.research.google.com/assets/colab-badge.svg\" alt=\"Open In Colab\"/></a>"
      ]
    },
    {
      "cell_type": "code",
      "source": [
        "import os\n",
        "import codecs"
      ],
      "metadata": {
        "id": "P4IVNd0NCGVH"
      },
      "execution_count": 4,
      "outputs": []
    },
    {
      "cell_type": "code",
      "source": [
        "def read_in(folder):\n",
        "  files = os.listdir(folder)\n",
        "  a_list = []\n",
        "  for a_file in files:\n",
        "    with codecs.open(os.path.join(folder, a_file), \"r\", encoding=\"ISO-8859-1\", errors=\"ignore\") as f:\n",
        "      a_list.append(f.read())\n",
        "\n",
        "  return a_list"
      ],
      "metadata": {
        "id": "fdmWYyUrH8o7"
      },
      "execution_count": 5,
      "outputs": []
    },
    {
      "cell_type": "code",
      "source": [
        "ham_list = read_in(\"ham/\")\n",
        "spam_list = read_in(\"spam/\")\n",
        "\n",
        "print(len(ham_list))\n",
        "print(len(spam_list))"
      ],
      "metadata": {
        "colab": {
          "base_uri": "https://localhost:8080/"
        },
        "id": "oHTDe-rDJA08",
        "outputId": "03d7fe55-9cf6-4443-ade3-54fa277d835c"
      },
      "execution_count": 6,
      "outputs": [
        {
          "output_type": "stream",
          "name": "stdout",
          "text": [
            "1000\n",
            "760\n"
          ]
        }
      ]
    },
    {
      "cell_type": "code",
      "source": [
        "import random\n",
        "\n",
        "all_emails = [(email_content, \"spam\") for email_content in spam_list]\n",
        "all_emails += [(email_content, \"ham\") for email_content in ham_list]\n",
        "\n",
        "random.seed(42)\n",
        "random.shuffle(all_emails)\n",
        "\n",
        "print(len(all_emails))"
      ],
      "metadata": {
        "colab": {
          "base_uri": "https://localhost:8080/"
        },
        "id": "Ei68sT-tJOg7",
        "outputId": "d5410c58-b894-4973-f203-388a3b7eda69"
      },
      "execution_count": 7,
      "outputs": [
        {
          "output_type": "stream",
          "name": "stdout",
          "text": [
            "1760\n"
          ]
        }
      ]
    },
    {
      "cell_type": "code",
      "source": [
        "import nltk\n",
        "from nltk import word_tokenize\n",
        "nltk.download(\"punkt_tab\")\n",
        "\n",
        "def get_features(text):\n",
        "  features = {}\n",
        "  word_list = [word for word in word_tokenize(text.lower())]\n",
        "  for word in word_list:\n",
        "    features[word] = True\n",
        "  return features"
      ],
      "metadata": {
        "id": "ywUxK0vMJqr8",
        "colab": {
          "base_uri": "https://localhost:8080/"
        },
        "outputId": "32d5f3aa-06e1-420a-9e81-d3c889ab77f7"
      },
      "execution_count": 12,
      "outputs": [
        {
          "output_type": "stream",
          "name": "stderr",
          "text": [
            "[nltk_data] Downloading package punkt_tab to /root/nltk_data...\n",
            "[nltk_data]   Package punkt_tab is already up-to-date!\n"
          ]
        }
      ]
    },
    {
      "cell_type": "code",
      "source": [
        "all_features = [(get_features(email), label) for (email, label) in all_emails]\n",
        "print(len(all_features))\n",
        "print(len(all_features[0]))\n",
        "print(len(all_features[0][0]))"
      ],
      "metadata": {
        "colab": {
          "base_uri": "https://localhost:8080/"
        },
        "id": "Q4XmzMLML2Ph",
        "outputId": "f2459b11-169b-4abc-894e-70f298ef2dc1"
      },
      "execution_count": 15,
      "outputs": [
        {
          "output_type": "stream",
          "name": "stdout",
          "text": [
            "1760\n",
            "2\n",
            "136\n"
          ]
        }
      ]
    },
    {
      "cell_type": "code",
      "source": [
        "from nltk import NaiveBayesClassifier, classify\n",
        "\n",
        "def train(features, proportion):\n",
        "  train_set = features[:int(len(features)*proportion)]\n",
        "  test_set = features[int(len(features)*proportion):]\n",
        "  print(len(train_set))\n",
        "  print(len(test_set))\n",
        "  classifier = NaiveBayesClassifier.train(train_set)\n",
        "  return train_set, test_set, classifier"
      ],
      "metadata": {
        "id": "YSbjScg5MNKj"
      },
      "execution_count": 16,
      "outputs": []
    },
    {
      "cell_type": "code",
      "source": [
        "train_set, test_set, classifier = train(all_features, 0.8)"
      ],
      "metadata": {
        "colab": {
          "base_uri": "https://localhost:8080/"
        },
        "id": "QrbMQUi9MzmF",
        "outputId": "30b7faa3-4ba4-488b-ce91-1a178b645137"
      },
      "execution_count": 17,
      "outputs": [
        {
          "output_type": "stream",
          "name": "stdout",
          "text": [
            "1408\n",
            "352\n"
          ]
        }
      ]
    },
    {
      "cell_type": "code",
      "source": [
        "def evaluate(train_set, test_set, classifier):\n",
        "  print(f\"Train Accuracy: {classify.accuracy(classifier, train_set)}\")\n",
        "  print(f\"Test Accuracy: {classify.accuracy(classifier, test_set)}\")\n",
        "  classifier.show_most_informative_features(50)"
      ],
      "metadata": {
        "id": "tmd_dzD_M3yE"
      },
      "execution_count": 22,
      "outputs": []
    },
    {
      "cell_type": "code",
      "source": [
        "evaluate(train_set, test_set, classifier)"
      ],
      "metadata": {
        "colab": {
          "base_uri": "https://localhost:8080/"
        },
        "id": "2QYXDTlVNiw1",
        "outputId": "0ff575fa-a2df-41f6-d57e-e3d605fa3f89"
      },
      "execution_count": 23,
      "outputs": [
        {
          "output_type": "stream",
          "name": "stdout",
          "text": [
            "Train Accuracy: 0.9886363636363636\n",
            "Test Accuracy: 0.9801136363636364\n",
            "Most Informative Features\n",
            "                      cc = True              ham : spam   =     74.0 : 1.0\n",
            "                      pm = True              ham : spam   =     43.5 : 1.0\n",
            "                  volume = True              ham : spam   =     41.9 : 1.0\n",
            "                     ami = True              ham : spam   =     38.6 : 1.0\n",
            "                 changes = True              ham : spam   =     37.9 : 1.0\n",
            "                attached = True              ham : spam   =     36.1 : 1.0\n",
            "               microsoft = True             spam : ham    =     35.4 : 1.0\n",
            "                 windows = True             spam : ham    =     34.5 : 1.0\n",
            "                pipeline = True              ham : spam   =     30.2 : 1.0\n",
            "                   paste = True             spam : ham    =     30.2 : 1.0\n",
            "                     gas = True              ham : spam   =     29.2 : 1.0\n",
            "                  jackie = True              ham : spam   =     28.2 : 1.0\n",
            "                     tom = True              ham : spam   =     27.7 : 1.0\n",
            "                  meters = True              ham : spam   =     26.7 : 1.0\n",
            "              compliance = True             spam : ham    =     26.7 : 1.0\n",
            "                    html = True             spam : ham    =     26.7 : 1.0\n",
            "                  howard = True              ham : spam   =     23.6 : 1.0\n",
            "                    lose = True             spam : ham    =     23.2 : 1.0\n",
            "               scheduled = True              ham : spam   =     23.1 : 1.0\n",
            "                    body = True             spam : ham    =     22.3 : 1.0\n",
            "                       / = True             spam : ham    =     21.8 : 1.0\n",
            "                   april = True              ham : spam   =     21.5 : 1.0\n",
            "                   julie = True              ham : spam   =     20.6 : 1.0\n",
            "                 federal = True             spam : ham    =     20.5 : 1.0\n",
            "              newsletter = True             spam : ham    =     20.5 : 1.0\n",
            "                       | = True             spam : ham    =     20.5 : 1.0\n",
            "                     ibm = True             spam : ham    =     19.7 : 1.0\n",
            "                    1999 = True              ham : spam   =     19.6 : 1.0\n",
            "                  farmer = True              ham : spam   =     19.4 : 1.0\n",
            "                   press = True             spam : ham    =     18.8 : 1.0\n",
            "                   fuels = True              ham : spam   =     18.6 : 1.0\n",
            "                  choose = True             spam : ham    =     17.9 : 1.0\n",
            "               guarantee = True             spam : ham    =     17.9 : 1.0\n",
            "                    gary = True              ham : spam   =     17.8 : 1.0\n",
            "                thursday = True              ham : spam   =     17.5 : 1.0\n",
            "                creative = True             spam : ham    =     17.0 : 1.0\n",
            "                    face = True             spam : ham    =     17.0 : 1.0\n",
            "                     tel = True             spam : ham    =     17.0 : 1.0\n",
            "                  robert = True              ham : spam   =     16.7 : 1.0\n",
            "                   money = True             spam : ham    =     16.6 : 1.0\n",
            "                 dollars = True             spam : ham    =     16.3 : 1.0\n",
            "               affiliate = True             spam : ham    =     16.2 : 1.0\n",
            "               investing = True             spam : ham    =     16.2 : 1.0\n",
            "                      n. = True             spam : ham    =     16.2 : 1.0\n",
            "                   shall = True             spam : ham    =     16.2 : 1.0\n",
            "                february = True              ham : spam   =     16.0 : 1.0\n",
            "                    mary = True              ham : spam   =     16.0 : 1.0\n",
            "                   brian = True              ham : spam   =     16.0 : 1.0\n",
            "                carthage = True              ham : spam   =     16.0 : 1.0\n",
            "               transport = True              ham : spam   =     15.7 : 1.0\n"
          ]
        }
      ]
    },
    {
      "cell_type": "code",
      "source": [
        "from nltk.text import Text\n",
        "\n",
        "def concordance(text, search_word):\n",
        "  for email in text:\n",
        "    word_list = [word for word in word_tokenize(email.lower())]\n",
        "    text_list = Text(word_list)\n",
        "    if search_word in text_list:\n",
        "      text_list.concordance(search_word)"
      ],
      "metadata": {
        "id": "BVIdZGM8NlCV"
      },
      "execution_count": 24,
      "outputs": []
    },
    {
      "cell_type": "code",
      "source": [
        "print(\"STOCKS in HAM:\")\n",
        "concordance(ham_list, \"stocks\")"
      ],
      "metadata": {
        "colab": {
          "base_uri": "https://localhost:8080/"
        },
        "id": "fyymUMPtOYq2",
        "outputId": "019ef458-3f8c-483a-c25d-365e3ac214c4"
      },
      "execution_count": 25,
      "outputs": [
        {
          "output_type": "stream",
          "name": "stdout",
          "text": [
            "STOCKS in HAM:\n"
          ]
        }
      ]
    },
    {
      "cell_type": "code",
      "source": [
        "print(\"STOCKS in SPAM:\")\n",
        "concordance(spam_list, \"stocks\")"
      ],
      "metadata": {
        "colab": {
          "base_uri": "https://localhost:8080/"
        },
        "id": "Mh_eX267OhUG",
        "outputId": "76a9c03c-f4aa-487c-fa97-f902fbf20b79"
      },
      "execution_count": 26,
      "outputs": [
        {
          "output_type": "stream",
          "name": "stdout",
          "text": [
            "STOCKS in SPAM:\n",
            "Displaying 3 of 3 matches:\n",
            " statements . as with many microcap stocks , todays company has additional ris\n",
            "blication pertaining to investing , stocks , securities must be understood as \n",
            "ntative before deciding to trade in stocks featured within this publication . \n",
            "Displaying 4 of 4 matches:\n",
            "nt opportunity drummond , small cap stocks alert newsletter must read - alert \n",
            "his email pertaining to investing , stocks , securities must be understood as \n",
            "ntative before deciding to trade in stocks featured within this email . none o\n",
            " lose money from investing in penny stocks . - - - - - - - - - - - - - - - - -\n",
            "Displaying 1 of 1 matches:\n",
            "fessionally not multi - level - not stocks - not real estate no cost tele - se\n",
            "Displaying 1 of 1 matches:\n",
            "ecializing in undervalued small cap stocks for immediate breakout erhc and exx\n",
            "Displaying 2 of 2 matches:\n",
            "ng their gains . select gold mining stocks are the hot flyers of the otc . his\n",
            "is letter cautions that micro - cap stocks are high - risk investments and tha\n",
            "Displaying 4 of 4 matches:\n",
            "y agree , some , not all , of these stocks move in price because they are prom\n",
            "tands or that as with many microcap stocks , today ' s company has additional \n",
            "is report pertaining to investing , stocks , securities must be understood as \n",
            "ntative before deciding to trade in stocks featured within this report . none \n",
            "Displaying 6 of 6 matches:\n",
            "hem : ( big money was made in these stocks by savvy investors who timed them r\n",
            "g filthy , stinking ri ' ch in tiny stocks no one has ever heard of until now \n",
            "ynamic things . some of these small stocks have absolutely exploded in price r\n",
            "'' occur . as with many micro - cap stocks , today ' s company has additional \n",
            " ema - il pertaining to investing , stocks or securities must be understood as\n",
            "ntative before deciding to trade in stocks featured within this ema - il . non\n",
            "Displaying 3 of 3 matches:\n",
            " statements . as with many microcap stocks , todays company has additional ris\n",
            "blication pertaining to investing , stocks , securities must be understood as \n",
            "ntative before deciding to trade in stocks featured within this publication . \n",
            "Displaying 2 of 2 matches:\n",
            "rt identifying defense and security stocks ready to explode look at the moves \n",
            " actual exchanges where small - cap stocks are traded . silica stopband doorkn\n",
            "Displaying 3 of 3 matches:\n",
            "torage inc. play of the week tracks stocks on downward trends , foresees botto\n",
            "his email pertaining to investing , stocks , securities must be understood as \n",
            "ntative before deciding to trade in stocks featured within this email . none o\n",
            "Displaying 6 of 6 matches:\n",
            " if you knew about these low priced stocks : otcbb : zapz : closed march 31 st\n",
            " following points : * many of these stocks are undiscovered and uncovered ! wh\n",
            " ! ! * * many of these undiscovered stocks are like coiled springs , wound tig\n",
            "might occur . as with many microcap stocks , today ' s company has additional \n",
            "his email pertaining to investing , stocks , securities must be understood as \n",
            "ntative before deciding to trade in stocks featured within this email . none o\n",
            "Displaying 3 of 3 matches:\n",
            "might occur . as with many microcap stocks , today ' s company has additiona |\n",
            "is emai | pertaining to investing , stocks , securities must be understood as \n",
            "ntative before deciding to trade in stocks featured within this emai | . none \n",
            "Displaying 5 of 5 matches:\n",
            "5 where were you when the following stocks exploded : scos : exploded from . 3\n",
            "d . 80 on friday . face it . little stocks can mean big gains for you . this r\n",
            "might occur . as with many microcap stocks , today ' s company has additional \n",
            "his email pertaining to investing , stocks , securities must be understood as \n",
            "ntative before deciding to trade in stocks featured within this report . none \n",
            "Displaying 4 of 4 matches:\n",
            "his email pertaining to investing , stocks , securities must be understood as \n",
            "ntative before deciding to trade in stocks featured within this email . none o\n",
            "eep in mind that when trading small stocks like the company above there is a c\n",
            "t professional before investing any stocks or mutual funds .\n",
            "Displaying 3 of 3 matches:\n",
            "his email pertaining to investing , stocks , securities must be understood as \n",
            "ntative before deciding to trade in stocks featured within this email . none o\n",
            " lose money from investing in penny stocks . if you wish to stop future mailin\n",
            "Displaying 4 of 4 matches:\n",
            "n this stock . some of these smal | stocks are absoiuteiy fiying , as many of \n",
            " statements . as with many microcap stocks , todays company has additional ris\n",
            "biication pertaining to investing , stocks , securities must be understood as \n",
            "ntative before deciding to trade in stocks featured within this publication . \n",
            "Displaying 3 of 3 matches:\n",
            "might occur . as with many microcap stocks , today ' s company has additiona |\n",
            "is emai | pertaining to investing , stocks , securities must be understood as \n",
            "ntative before deciding to trade in stocks featured within this email . none o\n",
            "Displaying 4 of 4 matches:\n",
            "hree days . play of the week tracks stocks on downward trends , foresees botto\n",
            "mark is our uncanny ability to spot stocks that have bottomed - out and antici\n",
            "ound and upward trend . most of the stocks we track rebound and peak within ju\n",
            "om third party . investing in penny stocks is high risk and you should seek pr\n",
            "Displaying 4 of 4 matches:\n",
            "his email pertaining to investing , stocks , securities must be understood as \n",
            "ntative before deciding to trade in stocks featured within this email . none o\n",
            "eep in mind that when trading small stocks like the company above there is a c\n",
            "t professional before investing any stocks or mutual funds .\n"
          ]
        }
      ]
    },
    {
      "cell_type": "code",
      "source": [
        "while True:\n",
        "  email = input(\"Enter an email (or press ENTER button to quite): \")\n",
        "  if len(email) == 0:\n",
        "    break\n",
        "  prediction = classifier.classify(get_features(email))\n",
        "  print(f\"This email is likely {prediction}\")"
      ],
      "metadata": {
        "colab": {
          "base_uri": "https://localhost:8080/"
        },
        "id": "eTMuQdgiOkTG",
        "outputId": "a9e1a85d-501f-455c-d850-9f8ee5dae435"
      },
      "execution_count": 27,
      "outputs": [
        {
          "name": "stdout",
          "output_type": "stream",
          "text": [
            "Enter an email (or press ENTER button to quite): Font Awesome logo and wordmark in a neon style    Hey there,       We wanna make sure you don't miss a lifetime discount on Font Awesome 7. The pre-order sale ends next week!   \n",
            "This email is likely spam\n",
            "Enter an email (or press ENTER button to quite): Dear Concern,  Please take necessary initiative to create mentioned employee's E-sender & others access.\n",
            "This email is likely ham\n",
            "Enter an email (or press ENTER button to quite): \n"
          ]
        }
      ]
    },
    {
      "cell_type": "code",
      "source": [],
      "metadata": {
        "id": "fyP0wkVPO8C3"
      },
      "execution_count": null,
      "outputs": []
    }
  ]
}